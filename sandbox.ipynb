{
 "cells": [
  {
   "cell_type": "code",
   "execution_count": 1,
   "metadata": {},
   "outputs": [],
   "source": [
    "import cv2\n",
    "import numpy as np"
   ]
  },
  {
   "cell_type": "code",
   "execution_count": 2,
   "metadata": {},
   "outputs": [],
   "source": [
    "def displayImage(image,win_name='Image'):\n",
    "    cv2.namedWindow(win_name)\n",
    "    cv2.imshow(win_name,image)\n",
    "    cv2.waitKey(0)\n",
    "    cv2.destroyWindow(win_name)\n",
    "    cv2.waitKey(1)\n",
    "    "
   ]
  },
  {
   "cell_type": "code",
   "execution_count": 3,
   "metadata": {},
   "outputs": [
    {
     "data": {
      "text/plain": [
       "(865, 937, 3)"
      ]
     },
     "execution_count": 3,
     "metadata": {},
     "output_type": "execute_result"
    }
   ],
   "source": [
    "img = cv2.imread('./input/dice4.png')\n",
    "img.shape"
   ]
  },
  {
   "cell_type": "code",
   "execution_count": 4,
   "metadata": {},
   "outputs": [],
   "source": [
    "displayImage(img,\"color image\")"
   ]
  },
  {
   "cell_type": "code",
   "execution_count": 5,
   "metadata": {},
   "outputs": [],
   "source": [
    "gray = cv2.cvtColor(img, cv2.COLOR_BGR2GRAY)\n",
    "displayImage(gray,\"gray original\")\n",
    "\n",
    "    \n",
    "    \n",
    "#img1 = cv2.blur(img, (5,5))\n",
    "#displayImage(img1,\"blurred\")"
   ]
  },
  {
   "cell_type": "code",
   "execution_count": 6,
   "metadata": {},
   "outputs": [],
   "source": [
    "edges = cv2.Canny(gray,50,900)"
   ]
  },
  {
   "cell_type": "code",
   "execution_count": 7,
   "metadata": {},
   "outputs": [],
   "source": [
    "displayImage(edges,\"edges\")"
   ]
  },
  {
   "cell_type": "code",
   "execution_count": 9,
   "metadata": {},
   "outputs": [],
   "source": [
    "contours,_ = cv2.findContours(edges,cv2.RETR_EXTERNAL,cv2.CHAIN_APPROX_SIMPLE)"
   ]
  },
  {
   "cell_type": "code",
   "execution_count": 10,
   "metadata": {},
   "outputs": [
    {
     "name": "stdout",
     "output_type": "stream",
     "text": [
      "(247, 506, 30, 30)\n",
      "(517, 500, 189, 192)\n",
      "(252, 454, 29, 31)\n",
      "(256, 403, 30, 30)\n",
      "(174, 374, 220, 190)\n",
      "(565, 269, 31, 30)\n",
      "(590, 240, 31, 31)\n",
      "(510, 221, 31, 31)\n",
      "(614, 211, 31, 31)\n",
      "(534, 193, 32, 30)\n",
      "(558, 164, 33, 30)\n",
      "(469, 135, 202, 196)\n"
     ]
    }
   ],
   "source": [
    "number_dice = 0\n",
    "for c in contours:\n",
    "    print(cv2.boundingRect(c))\n",
    "    \n",
    "    (x,y,w,h) = cv2.boundingRect(c)\n",
    "    \n",
    "    if w > 100 and h > 100:\n",
    "        number_dice += 1\n",
    "        #cv2.rectangle(img,(x,y),(x+w,y+h),(255,0,255),2)\n",
    "        img2 = img[y:y+h,x:x+w]\n",
    "        displayImage(img2,\"extracted Image\")\n",
    "        \n",
    "        # number of dots\n",
    "        rows = img2.shape[0]\n",
    "        img2 = cv2.Canny(img2,100,1000)\n",
    "        dots = cv2.HoughCircles(img2, cv2.HOUGH_GRADIENT, 1, rows / 8,\n",
    "                           param1=125, param2=5,\n",
    "                           minRadius=1, maxRadius=5)\n",
    "        \n",
    "        win_name = 'dots {:d}'.format(dots[0].shape[0])\n",
    "        displayImage(img2,win_name)\n",
    "        \n",
    "        \n",
    "        \n",
    "#displayImage(img3)"
   ]
  },
  {
   "cell_type": "code",
   "execution_count": 11,
   "metadata": {},
   "outputs": [],
   "source": [
    "displayImage(img2)"
   ]
  },
  {
   "cell_type": "code",
   "execution_count": 12,
   "metadata": {},
   "outputs": [
    {
     "name": "stdout",
     "output_type": "stream",
     "text": [
      "number of circles detected  7\n"
     ]
    }
   ],
   "source": [
    "rows = img2.shape[0]\n",
    "circles = cv2.HoughCircles(img2, cv2.HOUGH_GRADIENT, 1, rows / 8,\n",
    "                           param1=125, param2=5,\n",
    "                           minRadius=1, maxRadius=5)\n",
    "\n",
    "\n",
    "print(\"number of circles detected \",circles[0].shape[0])"
   ]
  },
  {
   "cell_type": "code",
   "execution_count": 13,
   "metadata": {},
   "outputs": [
    {
     "data": {
      "text/plain": [
       "numpy.ndarray"
      ]
     },
     "execution_count": 13,
     "metadata": {},
     "output_type": "execute_result"
    }
   ],
   "source": [
    "type(circles[0,0])"
   ]
  },
  {
   "cell_type": "code",
   "execution_count": 14,
   "metadata": {},
   "outputs": [
    {
     "name": "stdout",
     "output_type": "stream",
     "text": [
      "circle center:  (148, 96)\n",
      "circle center:  (44, 106)\n",
      "circle center:  (116, 36)\n",
      "circle center:  (100, 154)\n",
      "circle center:  (124, 126)\n",
      "circle center:  (68, 72)\n",
      "circle center:  (92, 46)\n"
     ]
    }
   ],
   "source": [
    "if circles is not None:\n",
    "    circles = np.uint16(np.around(circles))\n",
    "    for i in circles[0, :]:\n",
    "        center = (i[0], i[1])\n",
    "        print(\"circle center: \",center)\n",
    "        # circle center\n",
    "        cv2.circle(img, center, 1, (0, 100, 100), 3)\n",
    "        # circle outline\n",
    "        radius = i[2]\n",
    "        cv2.circle(img, center, radius, (255, 0, 255), 3)\n",
    "\n",
    "\n",
    "\n",
    "displayImage(img,\"detected circles\")"
   ]
  },
  {
   "cell_type": "code",
   "execution_count": null,
   "metadata": {
    "collapsed": true
   },
   "outputs": [],
   "source": []
  }
 ],
 "metadata": {
  "kernelspec": {
   "display_name": "Python 3",
   "language": "python",
   "name": "python3"
  },
  "language_info": {
   "codemirror_mode": {
    "name": "ipython",
    "version": 3
   },
   "file_extension": ".py",
   "mimetype": "text/x-python",
   "name": "python",
   "nbconvert_exporter": "python",
   "pygments_lexer": "ipython3",
   "version": "3.7.3"
  }
 },
 "nbformat": 4,
 "nbformat_minor": 2
}

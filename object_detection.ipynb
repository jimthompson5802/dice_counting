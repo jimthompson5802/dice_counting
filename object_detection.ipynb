{
 "cells": [
  {
   "cell_type": "code",
   "execution_count": 1,
   "metadata": {},
   "outputs": [],
   "source": [
    "import cv2 "
   ]
  },
  {
   "cell_type": "code",
   "execution_count": 2,
   "metadata": {},
   "outputs": [
    {
     "data": {
      "text/plain": [
       "numpy.ndarray"
      ]
     },
     "execution_count": 2,
     "metadata": {},
     "output_type": "execute_result"
    }
   ],
   "source": [
    "image = cv2.imread(\"./input/dice6.png\")\n",
    "type(image)"
   ]
  },
  {
   "cell_type": "code",
   "execution_count": 3,
   "metadata": {},
   "outputs": [
    {
     "data": {
      "text/plain": [
       "-1"
      ]
     },
     "execution_count": 3,
     "metadata": {},
     "output_type": "execute_result"
    }
   ],
   "source": [
    "cv2.startWindowThread()\n",
    "\n",
    "cv2.imshow(\"im\",image)\n",
    "cv2.waitKey(0)\n",
    "cv2.destroyWindow(\"im\")\n",
    "cv2.waitKey(1)"
   ]
  },
  {
   "cell_type": "code",
   "execution_count": 4,
   "metadata": {},
   "outputs": [],
   "source": [
    "gray=cv2.cvtColor(image,cv2.COLOR_BGR2GRAY)\n",
    "edged = cv2.Canny(image, 100, 550)\n",
    "cnts, hier  = cv2.findContours(edged.copy(), cv2.RETR_EXTERNAL, cv2.CHAIN_APPROX_SIMPLE)"
   ]
  },
  {
   "cell_type": "code",
   "execution_count": 5,
   "metadata": {},
   "outputs": [
    {
     "name": "stdout",
     "output_type": "stream",
     "text": [
      "(300, 511, 27, 27)\n",
      "(261, 487, 28, 28)\n",
      "(223, 464, 27, 27)\n",
      "(217, 439, 29, 7)\n",
      "(319, 427, 25, 92)\n",
      "(217, 426, 96, 22)\n",
      "(204, 418, 151, 151)\n",
      "(490, 334, 163, 166)\n",
      "(242, 117, 185, 167)\n"
     ]
    }
   ],
   "source": [
    "for c in cnts:\n",
    "    print(cv2.boundingRect(c))"
   ]
  },
  {
   "cell_type": "code",
   "execution_count": 6,
   "metadata": {},
   "outputs": [],
   "source": [
    "idx = 0\n",
    "for c in cnts:\n",
    "    x,y,w,h = cv2.boundingRect(c)\n",
    "    if w>100 and h>100:\n",
    "        idx+=1\n",
    "        new_img=image[y:y+h,x:x+w]\n",
    "        cv2.imshow('newimg',new_img)\n",
    "        cv2.waitKey(0)\n",
    "        cv2.destroyWindow('newimg')\n",
    "        cv2.waitKey(1)\n",
    "        #cv2.imwrite(str(idx) + '.png', new_img)\n",
    "    "
   ]
  },
  {
   "cell_type": "code",
   "execution_count": 7,
   "metadata": {},
   "outputs": [
    {
     "data": {
      "text/plain": [
       "-1"
      ]
     },
     "execution_count": 7,
     "metadata": {},
     "output_type": "execute_result"
    }
   ],
   "source": [
    "cv2.imshow(\"im\",image)\n",
    "cv2.waitKey(0)\n",
    "cv2.destroyWindow('im')\n",
    "cv2.waitKey(1)"
   ]
  },
  {
   "cell_type": "code",
   "execution_count": null,
   "metadata": {},
   "outputs": [],
   "source": []
  },
  {
   "cell_type": "code",
   "execution_count": null,
   "metadata": {},
   "outputs": [],
   "source": []
  },
  {
   "cell_type": "code",
   "execution_count": null,
   "metadata": {},
   "outputs": [],
   "source": []
  }
 ],
 "metadata": {
  "kernelspec": {
   "display_name": "Python 3",
   "language": "python",
   "name": "python3"
  },
  "language_info": {
   "codemirror_mode": {
    "name": "ipython",
    "version": 3
   },
   "file_extension": ".py",
   "mimetype": "text/x-python",
   "name": "python",
   "nbconvert_exporter": "python",
   "pygments_lexer": "ipython3",
   "version": "3.7.3"
  }
 },
 "nbformat": 4,
 "nbformat_minor": 2
}
